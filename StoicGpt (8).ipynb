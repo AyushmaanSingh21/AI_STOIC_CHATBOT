{
  "cells": [
    {
      "cell_type": "code",
      "execution_count": 1,
      "metadata": {
        "colab": {
          "base_uri": "https://localhost:8080/"
        },
        "id": "4keAtSAKjJvv",
        "outputId": "72a9441a-4ca5-456d-b980-bf48a3f10039"
      },
      "outputs": [],
      "source": [
        "# pip install qdrant-client sentence-transformers llama-index"
      ]
    },
    {
      "cell_type": "code",
      "execution_count": 2,
      "metadata": {
        "colab": {
          "base_uri": "https://localhost:8080/"
        },
        "id": "Wpur405RLd8U",
        "outputId": "4da664ab-7b73-467d-a1b2-b682bbd436a7"
      },
      "outputs": [
        {
          "name": "stdout",
          "output_type": "stream",
          "text": [
            "Total texts extracted: 1606\n",
            "Sample texts: ['From my grandfather Verus I learned good morals and the government of my temper.', 'From the reputation and remembrance of my father, modesty and a manly character.', 'From Fronto I learned to observe what envy, and duplicity, and hypocrisy are in a tyrant, and that\\ngenerally those among us who are called Patricians are rather deficient in paternal affection.']\n"
          ]
        }
      ],
      "source": [
        "import json\n",
        "with open(\"stoic_texts.json\", \"r\", encoding=\"utf-8\") as f:\n",
        "    data = json.load(f)\n",
        "texts = data[\"texts\"]\n",
        "print(f\"Total texts extracted: {len(texts)}\")\n",
        "print(\"Sample texts:\", texts[:3])"
      ]
    },
    {
      "cell_type": "code",
      "execution_count": 3,
      "metadata": {
        "colab": {
          "base_uri": "https://localhost:8080/"
        },
        "id": "IJtykHMBga6f",
        "outputId": "99e97649-e9f2-4c70-e90a-c99fd10be90c"
      },
      "outputs": [],
      "source": [
        "# pip install llama-index\n",
        "# pip install llama-index-vector-stores-qdrant llama-index-embeddings-fastembed\n",
        "# pip install llama-index-readers-file\n",
        "# pip install llama-index-llms-groq  # deepseek r1"
      ]
    },
    {
      "cell_type": "code",
      "execution_count": 4,
      "metadata": {
        "id": "QouFqXkDh0ZA"
      },
      "outputs": [],
      "source": [
        "import logging\n",
        "import sys\n",
        "import os"
      ]
    },
    {
      "cell_type": "code",
      "execution_count": 5,
      "metadata": {
        "id": "h9q0mMFSh4cb"
      },
      "outputs": [],
      "source": [
        "from llama_index.core import Document"
      ]
    },
    {
      "cell_type": "code",
      "execution_count": 6,
      "metadata": {
        "id": "a1CslfcKjbR0"
      },
      "outputs": [
        {
          "name": "stderr",
          "output_type": "stream",
          "text": [
            "c:\\Users\\LENOVO\\Desktop\\Stoic gpt\\venv\\Lib\\site-packages\\tqdm\\auto.py:21: TqdmWarning: IProgress not found. Please update jupyter and ipywidgets. See https://ipywidgets.readthedocs.io/en/stable/user_install.html\n",
            "  from .autonotebook import tqdm as notebook_tqdm\n"
          ]
        }
      ],
      "source": [
        "import qdrant_client\n",
        "from qdrant_client import models\n",
        "from llama_index.core import Document  # Added this\n",
        "from llama_index.embeddings.fastembed import FastEmbedEmbedding\n",
        "from llama_index.llms.groq import Groq  # deep seek r1 implementation"
      ]
    },
    {
      "cell_type": "code",
      "execution_count": 7,
      "metadata": {
        "colab": {
          "base_uri": "https://localhost:8080/"
        },
        "id": "LaDqh1e-jjuD",
        "outputId": "d0938882-ee8f-4dcd-d434-32f395a9c679"
      },
      "outputs": [
        {
          "name": "stdout",
          "output_type": "stream",
          "text": [
            "Created 1606 documents\n"
          ]
        }
      ],
      "source": [
        "documents = [Document(text=text) for text in texts]\n",
        "print(f\"Created {len(documents)} documents\")"
      ]
    },
    {
      "cell_type": "code",
      "execution_count": 8,
      "metadata": {
        "colab": {
          "base_uri": "https://localhost:8080/"
        },
        "id": "qb_FKH-7kWEV",
        "outputId": "daadd971-cdba-4e29-d484-2c48dba9a775"
      },
      "outputs": [
        {
          "data": {
            "text/plain": [
              "1606"
            ]
          },
          "execution_count": 8,
          "metadata": {},
          "output_type": "execute_result"
        }
      ],
      "source": [
        "len(documents)"
      ]
    },
    {
      "cell_type": "code",
      "execution_count": 9,
      "metadata": {
        "colab": {
          "base_uri": "https://localhost:8080/",
          "height": 122
        },
        "id": "XlkuLlJOkZbh",
        "outputId": "24bb11ec-9ae2-41a4-ff4f-60a4da35a302"
      },
      "outputs": [
        {
          "data": {
            "text/plain": [
              "\"Therefore you should state why the wise man ought not to get drunk. Explain by facts, and not by\\nmere words, the hideousness of the thing, and its haunting evils. Do that which is easiest of all ?\\nnamely, demonstrate that what men call pleasures are punishments as soon as they have exceeded\\ndue bounds. For if you try to prove that the wise man can souse himself with much wine and yet\\nkeep his course straight, even though he be in his cups, you may go on to infer by syllogisms that\\nhe will not die if he swallows poison, that he will not sleep if he takes a sleeping-potion, that he will\\nnot vomit and reject the matter which clogs his stomach when you give him hellebore. But, when a\\nman's feet totter and his tongue is unsteady, what reason have you for believing that he is half sober\\nand half drunk? Farewell.\""
            ]
          },
          "execution_count": 9,
          "metadata": {},
          "output_type": "execute_result"
        }
      ],
      "source": [
        "documents[100].text"
      ]
    },
    {
      "cell_type": "code",
      "execution_count": 10,
      "metadata": {
        "id": "gjDojivhmKjR"
      },
      "outputs": [],
      "source": [
        "# from google.colab import userdata"
      ]
    },
    {
      "cell_type": "code",
      "execution_count": 11,
      "metadata": {},
      "outputs": [],
      "source": [
        "from dotenv import load_dotenv\n",
        "import os\n",
        "\n",
        "# Specify your env file name\n",
        "load_dotenv(\"keys.env\")  # loads environment variables from keys.env\n",
        "\n",
        "# Now you can access your secrets like this:\n",
        "GROQ_API_KEY = os.getenv(\"GROQ_API_KEY\")\n",
        "QDRANT_URL = os.getenv(\"QDRANT_URL\")\n",
        "QDRANT_API_KEY = os.getenv(\"QDRANT_API_KEY\")"
      ]
    },
    {
      "cell_type": "code",
      "execution_count": 12,
      "metadata": {
        "id": "fsEqERbQmXpP"
      },
      "outputs": [],
      "source": [
        "# os.environ['GROQ_API_KEY'] = userdata.get(\"GROQ_API_KEY\")"
      ]
    },
    {
      "cell_type": "code",
      "execution_count": 13,
      "metadata": {
        "id": "s4Kmksr_mkEW"
      },
      "outputs": [],
      "source": [
        "# llm = Groq(model=\"deepseek-r1-distill-llama-70b\")"
      ]
    },
    {
      "cell_type": "code",
      "execution_count": 14,
      "metadata": {
        "colab": {
          "base_uri": "https://localhost:8080/",
          "height": 35
        },
        "id": "XACjagoqmtLj",
        "outputId": "99c3ff77-62e9-4bb7-bf00-9807bb8d3b15"
      },
      "outputs": [],
      "source": [
        "# llm.complete(\"How You Doing\").text"
      ]
    },
    {
      "cell_type": "code",
      "execution_count": 17,
      "metadata": {},
      "outputs": [
        {
          "name": "stdout",
          "output_type": "stream",
          "text": [
            "<think>\n",
            "\n",
            "</think>\n",
            "\n",
            "Doing well, thanks for asking! How can I assist you today? 😊\n"
          ]
        }
      ],
      "source": [
        "from llama_index.llms.groq import Groq\n",
        "\n",
        "llm = Groq(\n",
        "    api_key=GROQ_API_KEY,  # Make sure GROQ_API_KEY is loaded from your .env\n",
        "    model=\"deepseek-r1-distill-llama-70b\",\n",
        "    default_headers={},    \n",
        "    logprobs=None\n",
        ")\n",
        "\n",
        "print(llm.complete(\"How You Doing\").text)"
      ]
    },
    {
      "cell_type": "code",
      "execution_count": 18,
      "metadata": {
        "colab": {
          "base_uri": "https://localhost:8080/",
          "height": 368,
          "referenced_widgets": [
            "327d75fba01b41d8972ef6531cb294d3",
            "61f52bb07ccb4a9a8602d4f912735adb",
            "fc8bf475cfed40178d2b47b9adeb9426",
            "bf52f259c227427c922c1d4ec0ed282b",
            "3cedc1217cb444ec8c2d93dd07f4fc43",
            "5ebfeb03cc26413eb62411fcd179fe16",
            "142ebf5651984ae38df27e94e764caf2",
            "37aa1beb1d9a4b9ba5e16721168ae4e0",
            "37c019f524cf4d0da1b3c7c4546c3f53",
            "b05e734d8a3e4cf99c2b0274a064cbd7",
            "344f12dc7ba1446099e4f78909d902b2",
            "cfd7bd90ddab44dc889389f636cacb1b",
            "1a89624858d34e8cbe23f43a9ed1ebad",
            "07ace00aebc44725a458f2c6240916ef",
            "6cb6478a4bc84ecca4c9a85396c78fe3",
            "a72ceef9a2354b899fbb4a1d456ce173",
            "3df52ccf42a346409f675a6c53ac847c",
            "7990729b7feb4936b64326a43434269c",
            "b605f85b35cf4c76b69276038939c98a",
            "1f2cd774c75f4ddea77c396a97d83fd6",
            "85bf883b1763427aa88e00b6e767b668",
            "43070328e35f40e7ab1c5cb091414426",
            "f0b9523e3a7341b3b3a8b3e715a38635",
            "6819f0e48ed342858de1f4186957d296",
            "219562195c27498db7009bf595814e03",
            "c81ebc3d76fc41b092a1b4f275bb2932",
            "799688a79f32494b99f9624410559218",
            "dbdf6ec2049b4bfeb0c4d7255430a5cb",
            "a049e116a2fd4d29ab76b600db009f3f",
            "53af90d0dd4c4eeabbde33a55e8bfee5",
            "bf2494a73eaf4338bba8864182db107f",
            "50852c1b4c7f4c1cbde9c112ea44e35f",
            "374a86f25bd54223a994a553e4cad7a1",
            "6f35980cc29647b7b261f628bd26ab29",
            "98b57985cd51497a922d5b8016e0d30c",
            "e883e59c30884a17b04b3fffc6bc2333",
            "6836be8d2865457b9f73012d1c95d774",
            "53fac69e080b48828da66fc4c5811b35",
            "1dc33f1e82d14b5a96262b6e774aec90",
            "ab076e96eb424491a7196343b79abe32",
            "e25463f9a2d04dc6972db899348d0dd1",
            "55f99480d5a3486faf88bd5986da6018",
            "a859c848207f417789f8dd5595cae3a6",
            "9ae99cc8d1304f04af3feac13e1bea11",
            "5cd54f869d46429abc4c886a9676f97c",
            "6c9cbf062bd44ffdaf2102aaa163aec6",
            "915ff769c0dc4a539b7840db9653c38e",
            "7ecb04ed974e4a8fa1524bd652d44a50",
            "40c2d553e0cb4c88be6586d9f2c2167c",
            "0b64fbbed1bf49db9b0ac61401650fb4",
            "0221d6b870084e7f8c1935757fb57370",
            "fec6d6b03cf94e359ba6ac252c7188fa",
            "adab149c9f884aac8ae16ec12b7b9e1b",
            "4d5c602d3e054f34943c7f5be303adba",
            "13fe361c27424042a6af65d815dcccf2",
            "4da6e7afaecd47e6bd96f7920ec1c8fc",
            "fc2002e7b50f4a5da06c10f01a37fbf8",
            "d9f4db95a6da453fab2954381f01ecbb",
            "f7c6b89e0fe6479e92b480aabc21a455",
            "01366efd5be9417bb35be7717261ca2e",
            "716d2907a26a4390beb6c9c8c4c22b04",
            "df167a8adff149fb819f8106b4a807e7",
            "c0b184268b2b469f931cd2058bf6a61b",
            "fcb5cd64864a46138de0c528a94e3116",
            "3ef769e2fdf040159db8b00476497613",
            "8aca33bd03244152abf06abd39c86e4c"
          ]
        },
        "id": "jAhjfTWgnbjC",
        "outputId": "dfd4b176-e709-49ca-b1cd-619ad4013aff"
      },
      "outputs": [
        {
          "name": "stderr",
          "output_type": "stream",
          "text": [
            "c:\\Users\\LENOVO\\Desktop\\Stoic gpt\\venv\\Lib\\site-packages\\llama_index\\embeddings\\fastembed\\base.py:88: UserWarning: The model thenlper/gte-large now uses mean pooling instead of CLS embedding. In order to preserve the previous behaviour, consider either pinning fastembed version to 0.5.1 or using `add_custom_model` functionality.\n",
            "  self._model = TextEmbedding(\n"
          ]
        }
      ],
      "source": [
        "embed_model = FastEmbedEmbedding(model_name=\"thenlper/gte-large\")"
      ]
    },
    {
      "cell_type": "code",
      "execution_count": 19,
      "metadata": {
        "id": "kRt-2G-kpx9j"
      },
      "outputs": [],
      "source": [
        "client = qdrant_client.QdrantClient(\n",
        "    url=QDRANT_URL,\n",
        "    api_key=QDRANT_API_KEY,\n",
        "    prefer_grpc=True\n",
        ")"
      ]
    },
    {
      "cell_type": "code",
      "execution_count": 20,
      "metadata": {
        "id": "vc--IZh2q3FW"
      },
      "outputs": [],
      "source": [
        "collection_name = \"stoic_corpus\""
      ]
    },
    {
      "cell_type": "code",
      "execution_count": 21,
      "metadata": {
        "colab": {
          "base_uri": "https://localhost:8080/"
        },
        "id": "VO-XA1lQwZfI",
        "outputId": "07b454d6-9b32-4df6-b2dd-ab7979c3ed23"
      },
      "outputs": [
        {
          "name": "stdout",
          "output_type": "stream",
          "text": [
            "Collection already exists\n"
          ]
        }
      ],
      "source": [
        "if not client.collection_exists(collection_name=collection_name):\n",
        "    client.create_collection(\n",
        "        collection_name=collection_name,\n",
        "        vectors_config=models.VectorParams(size=1024,\n",
        "                                           distance=models.Distance.COSINE,on_disk=True),\n",
        "        quantization_config=models.BinaryQuantization(\n",
        "            binary=models.BinaryQuantizationConfig(\n",
        "                always_ram=True,\n",
        "            ),\n",
        "        ),\n",
        "    )\n",
        "else:\n",
        "    print(\"Collection already exists\")"
      ]
    },
    {
      "cell_type": "code",
      "execution_count": null,
      "metadata": {
        "id": "zoAN72EBxbRv"
      },
      "outputs": [],
      "source": [
        "embeddings = []\n",
        "BATCH_SIZE = 50"
      ]
    },
    {
      "cell_type": "code",
      "execution_count": null,
      "metadata": {
        "id": "a2iqNDYOxf5L"
      },
      "outputs": [],
      "source": [
        "for page in range(0, len(texts), BATCH_SIZE):\n",
        "    page_content = texts[page:page + BATCH_SIZE]\n",
        "    response = embed_model.get_text_embedding_batch(page_content)\n",
        "    embeddings.extend(response)"
      ]
    },
    {
      "cell_type": "code",
      "execution_count": null,
      "metadata": {
        "id": "ghq9iU-349IV"
      },
      "outputs": [
        {
          "name": "stderr",
          "output_type": "stream",
          "text": [
            "C:\\Users\\LENOVO\\AppData\\Local\\Temp\\ipykernel_7560\\2319677760.py:7: UserWarning: Batch upload failed 1 times. Retrying...\n",
            "  client.upload_collection(\n",
            "C:\\Users\\LENOVO\\AppData\\Local\\Temp\\ipykernel_7560\\2319677760.py:7: UserWarning: Batch upload failed 2 times. Retrying...\n",
            "  client.upload_collection(\n"
          ]
        }
      ],
      "source": [
        "BATCH_SIZE = 10  # Try 10 or even 5 if you still get errors\n",
        "\n",
        "for idx in range(0, len(texts), BATCH_SIZE):\n",
        "    docs = texts[idx:idx + BATCH_SIZE]\n",
        "    embeds = embeddings[idx:idx + BATCH_SIZE]\n",
        "\n",
        "    client.upload_collection(\n",
        "        collection_name=collection_name,\n",
        "        vectors=embeds,\n",
        "        payload=[{\"context\": doc} for doc in docs]  # Use doc, not context\n",
        "    )"
      ]
    },
    {
      "cell_type": "code",
      "execution_count": null,
      "metadata": {
        "colab": {
          "base_uri": "https://localhost:8080/"
        },
        "id": "YcadJSxW5Q_J",
        "outputId": "0a78f08e-d7f7-45dd-96c2-3e77d3bd691e"
      },
      "outputs": [
        {
          "data": {
            "text/plain": [
              "True"
            ]
          },
          "execution_count": 21,
          "metadata": {},
          "output_type": "execute_result"
        }
      ],
      "source": [
        "client.update_collection(collection_name= collection_name,\n",
        "                        optimizer_config=models.OptimizersConfigDiff(indexing_threshold=20000))"
      ]
    },
    {
      "cell_type": "markdown",
      "metadata": {
        "id": "5G4CBCXL5XvT"
      },
      "source": [
        "## RETRIEVAL AUGMENTED GENERATION\n"
      ]
    },
    {
      "cell_type": "code",
      "execution_count": null,
      "metadata": {
        "id": "iFFZNFPK5dCW"
      },
      "outputs": [],
      "source": [
        "def search(query,k=5):\n",
        "  # query = user prompt\n",
        "  query_embedding = embed_model.get_query_embedding(query)\n",
        "  result = client.query_points(\n",
        "            collection_name = collection_name,\n",
        "            query=query_embedding,\n",
        "            limit = k\n",
        "        )\n",
        "  return result"
      ]
    },
    {
      "cell_type": "code",
      "execution_count": null,
      "metadata": {
        "id": "UOe0KhGk6PgC"
      },
      "outputs": [],
      "source": [
        "relevant_docs = search(\"How can I stay calm in tough times?\")"
      ]
    },
    {
      "cell_type": "code",
      "execution_count": null,
      "metadata": {
        "colab": {
          "base_uri": "https://localhost:8080/"
        },
        "id": "vGwQEbKh7EQV",
        "outputId": "2774c43e-ceff-4784-899c-e1e9f423dae3"
      },
      "outputs": [
        {
          "data": {
            "text/plain": [
              "5"
            ]
          },
          "execution_count": 24,
          "metadata": {},
          "output_type": "execute_result"
        }
      ],
      "source": [
        "len(relevant_docs.points)"
      ]
    },
    {
      "cell_type": "code",
      "execution_count": null,
      "metadata": {
        "colab": {
          "base_uri": "https://localhost:8080/"
        },
        "id": "1jQ-8zJ_7FlE",
        "outputId": "4cc97449-54e2-43f2-dd80-6991b0bd2193"
      },
      "outputs": [
        {
          "name": "stdout",
          "output_type": "stream",
          "text": [
            "You write me that you are anxious about the result of a lawsuit, with which an angry opponent is\n",
            "threatening you; and you expect me to advise you to picture to yourself a happier issue, and to rest\n",
            "in the allurements of hope. Why, indeed, is it necessary to summon trouble, ? which must be\n",
            "endured soon enough when it has once arrived, ? or to anticipate trouble and ruin the present\n",
            "through fear of the future? It is indeed foolish to be unhappy now because you may be unhappy at\n",
            "some future time. But I shall conduct you to peace of mind by another route: if you would put off all\n",
            "worry, assume that what you fear may happen will certainly happen in any event; whatever the\n",
            "trouble may be, measure it in your own mind, and estimate the amount of your fear. You will thus\n",
            "understand that what you fear is either insignificant or short-lived. And you need not spend a long\n",
            "time in gathering illustrations which will strengthen you; every epoch has produced them. Let your\n",
            "thoughts travel into any era of Roman or foreign history, and there will throng before you notable\n",
            "examples of high achievement or of high endeavour.\n"
          ]
        }
      ],
      "source": [
        "print(relevant_docs.points[4].payload['context'])"
      ]
    },
    {
      "cell_type": "code",
      "execution_count": null,
      "metadata": {
        "id": "yTwSNBSy9B9V"
      },
      "outputs": [],
      "source": [
        "from llama_index.core import ChatPromptTemplate\n",
        "from llama_index.core.llms import ChatMessage, MessageRole\n",
        "\n",
        "message_templates = [\n",
        "    ChatMessage(\n",
        "        content=\"\"\"\n",
        "        You are an expert Stoic assistant, well-versed in the teachings of Stoicism, including the works of Marcus Aurelius, Seneca, and Epictetus.\n",
        "        You provide insightful and practical advice based on Stoic philosophy.\n",
        "        \"\"\",\n",
        "        role=MessageRole.SYSTEM),\n",
        "    ChatMessage(\n",
        "        content=\"\"\"\n",
        "        We have provided context information below.\n",
        "        {context_str}\n",
        "        ---------------------\n",
        "        Given this information, please answer the question: {query}\n",
        "        ---------------------\n",
        "        If the question is not from the provided context, say `I don't know. Not enough information received.`\n",
        "        \"\"\",\n",
        "        role=MessageRole.USER,\n",
        "    ),\n",
        "]"
      ]
    },
    {
      "cell_type": "code",
      "execution_count": null,
      "metadata": {
        "id": "mhZteZrm9j32"
      },
      "outputs": [],
      "source": [
        "def pipeline(query):\n",
        "    # R - Retriver\n",
        "    relevant_documents = search(query)\n",
        "    context = [doc.payload['context'] for doc in relevant_documents.points]\n",
        "    context = \"\\n\".join(context)\n",
        "\n",
        "    # A - Augment\n",
        "    chat_template = ChatPromptTemplate(message_templates=message_templates)\n",
        "\n",
        "    # G - Generate\n",
        "    response = llm.complete(\n",
        "        chat_template.format(\n",
        "            context_str=context,\n",
        "            query=query)\n",
        "    )\n",
        "    return response"
      ]
    },
    {
      "cell_type": "code",
      "execution_count": null,
      "metadata": {
        "colab": {
          "base_uri": "https://localhost:8080/"
        },
        "id": "W7GTgysm-N1W",
        "outputId": "83d1c704-8a01-4cbf-9482-cf7a487626d0"
      },
      "outputs": [
        {
          "name": "stdout",
          "output_type": "stream",
          "text": [
            "<think>\n",
            "Okay, so I need to figure out what Marcus Aurelius says about finding inner peace in a chaotic world based on the provided context. Let me start by reading through the context carefully.\n",
            "\n",
            "The context includes several passages from what seems to be letters or writings by Seneca and Marcus Aurelius. The user provided a mix of texts, some of which are repeated. I notice that the first part is from Seneca, discussing the importance of dealing with real problems rather than getting bogged down in theoretical debates. He talks about the futility of future wisdom and the importance of focusing on the present. He also mentions that future goods are not yet present, so they can't be helpful now.\n",
            "\n",
            "Then, the latter part seems to be from Marcus Aurelius. He discusses how we often fear things more than they deserve and how we suffer more in imagination than in reality. He advises not to be unhappy before the crisis comes because the dangers we fear might never arrive. He also talks about the habit of exaggerating or anticipating sorrow.\n",
            "\n",
            "Additionally, Marcus Aurelius mentions that it's in our power to live free from compulsion and maintain tranquility of mind despite external chaos. He suggests that the mind can remain calm by justly judging surroundings and using present objects as material for virtue. He emphasizes that everything that happens is related to God or man and is manageable because it's usual and not difficult.\n",
            "\n",
            "So, putting this together, Marcus Aurelius is saying that inner peace comes from focusing on the present, not worrying about future events that may not happen, and maintaining a tranquil mind regardless of external chaos. He advises using Stoic principles to judge situations rightly and to view challenges as opportunities for virtue.\n",
            "\n",
            "I should structure the answer to highlight these points: focus on the present, don't fear future uncertainties, and cultivate a tranquil mind through correct judgment and using challenges as material for virtue.\n",
            "</think>\n",
            "\n",
            "Marcus Aurelius offers insights into finding inner peace amidst chaos by emphasizing the importance of living in the present and cultivating a tranquil mind. He advises against fearing future uncertainties, as many of the dangers we anticipate may never occur. Instead, he encourages maintaining calm by justly judging situations and viewing challenges as opportunities for virtue. By focusing on the present and using Stoic principles, one can achieve inner peace regardless of external turmoil.\n"
          ]
        }
      ],
      "source": [
        "print(pipeline(\"What does Marcus Aurelius say about finding inner peace in a chaotic world?\"))"
      ]
    },
    {
      "cell_type": "code",
      "execution_count": null,
      "metadata": {
        "colab": {
          "base_uri": "https://localhost:8080/"
        },
        "id": "3VwBbmZU-xgU",
        "outputId": "3b6cba17-ba24-4a58-c3c0-43e44f88b679"
      },
      "outputs": [
        {
          "name": "stdout",
          "output_type": "stream",
          "text": [
            "<think>\n",
            "Okay, so I need to explain this Stoic teaching from Marcus Aurelius: \"If you are distressed by anything external, the pain is not due to the thing itself, but to your estimate of it; and this you have the power to revoke at any moment.\" \n",
            "\n",
            "First, I remember that Stoicism focuses a lot on controlling one's thoughts and emotions rather than external events. Marcus Aurelius was a Stoic philosopher, so his teachings would align with that. The quote is saying that when something external upsets us, it's not the thing itself causing the pain, but rather our judgment or perception of it. \n",
            "\n",
            "So, the key idea here is that our emotions and reactions are based on our interpretations. If I'm upset about something, it's because I'm assigning a certain meaning to it. For example, if it rains on my wedding day, the rain itself isn't causing my distress; it's my belief that the day should be sunny that's making me upset. \n",
            "\n",
            "The Stoics would argue that we have the power to change our judgments. Instead of being upset about the rain, I could choose to see it as a unique part of the day or focus on the positive aspects. This ability to revoke or change our judgments is within our control. \n",
            "\n",
            "I should also consider the broader Stoic principles. They talk about the dichotomy of control—things within our control and things outside of it. External events are outside our control, but our reactions are within our control. So, by changing our judgments, we can manage our emotions and responses. \n",
            "\n",
            "Additionally, the quote emphasizes that this power is available to us at any moment. It's not something we have to wait for or achieve through long practice, though practice does help. It's an immediate ability we can exercise. \n",
            "\n",
            "I should also think about how this applies in real-life situations. For example, if someone cuts me off in traffic, my anger isn't because of their action, but because I'm interpreting it as rude or disrespectful. If I change my judgment to see it as a mistake or perhaps the other driver being in a hurry, my emotional response changes. \n",
            "\n",
            "Moreover, this ties into the concept of negative visualization and cognitive restructuring, which are Stoic techniques. By mentally preparing for negative events and challenging our thoughts, we can reduce our emotional reactivity. \n",
            "\n",
            "I should also address the idea that this doesn't mean suppressing emotions but rather becoming aware of and changing the underlying thoughts that cause them. It's about taking responsibility for our own mental states rather than blaming external circumstances. \n",
            "\n",
            "In summary, the teaching is about recognizing that our distress comes from our internal judgments, not the external events themselves, and that we have the power to change these judgments to alleviate our suffering.\n",
            "</think>\n",
            "\n",
            "The Stoic teaching by Marcus Aurelius emphasizes that our emotional distress stems not from external events but from our judgments about those events. Here's a structured explanation:\n",
            "\n",
            "1. **Source of Distress**: External events themselves do not cause pain; it is our interpretation or judgment of these events that leads to distress.\n",
            "\n",
            "2. **Control Over Judgments**: Individuals have the power to revoke or change these judgments at any moment. This ability allows us to manage our emotional responses.\n",
            "\n",
            "3. **Dichotomy of Control**: Stoicism teaches that while external events are beyond our control, our reactions to them are within our control. By focusing on what we can control, we can maintain emotional resilience.\n",
            "\n",
            "4. **Application in Real Life**: For example, if someone cuts you off in traffic, your anger arises from interpreting their action as rude. Changing this judgment can reduce emotional reactivity.\n",
            "\n",
            "5. **Mindfulness and Responsibility**: The teaching encourages awareness of our thoughts and taking responsibility for our mental states, rather than blaming external circumstances.\n",
            "\n",
            "6. **Techniques**: This aligns with Stoic practices like cognitive restructuring and negative visualization, which help in managing emotions by challenging and changing negative thoughts.\n",
            "\n",
            "In essence, the teaching invites us to recognize and modify our internal judgments to alleviate suffering, fostering emotional well-being through mindful thought management.\n"
          ]
        }
      ],
      "source": [
        "print(pipeline(\"Explain this Stoic teaching from Marcus Aurelius: 'If you are distressed by anything external, the pain is not due to the thing itself, but to your estimate of it; and this you have the power to revoke at any moment.'\"))"
      ]
    },
    {
      "cell_type": "code",
      "execution_count": 1,
      "metadata": {},
      "outputs": [
        {
          "ename": "NameError",
          "evalue": "name 'pipeline' is not defined",
          "output_type": "error",
          "traceback": [
            "\u001b[31m---------------------------------------------------------------------------\u001b[39m",
            "\u001b[31mNameError\u001b[39m                                 Traceback (most recent call last)",
            "\u001b[36mCell\u001b[39m\u001b[36m \u001b[39m\u001b[32mIn[1]\u001b[39m\u001b[32m, line 1\u001b[39m\n\u001b[32m----> \u001b[39m\u001b[32m1\u001b[39m \u001b[38;5;28mprint\u001b[39m(\u001b[43mpipeline\u001b[49m(\u001b[33m\"\u001b[39m\u001b[33mGuide me on how to calm oneself?\u001b[39m\u001b[33m\"\u001b[39m))\n",
            "\u001b[31mNameError\u001b[39m: name 'pipeline' is not defined"
          ]
        }
      ],
      "source": [
        "print(pipeline(\"Guide me on how to calm oneself?\"))"
      ]
    }
  ],
  "metadata": {
    "accelerator": "GPU",
    "colab": {
      "gpuType": "T4",
      "provenance": []
    },
    "kernelspec": {
      "display_name": "venv",
      "language": "python",
      "name": "python3"
    },
    "language_info": {
      "codemirror_mode": {
        "name": "ipython",
        "version": 3
      },
      "file_extension": ".py",
      "mimetype": "text/x-python",
      "name": "python",
      "nbconvert_exporter": "python",
      "pygments_lexer": "ipython3",
      "version": "3.12.0"
    },
    "widgets": {
      "application/vnd.jupyter.widget-state+json": {
        "01366efd5be9417bb35be7717261ca2e": {
          "model_module": "@jupyter-widgets/base",
          "model_module_version": "1.2.0",
          "model_name": "LayoutModel",
          "state": {
            "_model_module": "@jupyter-widgets/base",
            "_model_module_version": "1.2.0",
            "_model_name": "LayoutModel",
            "_view_count": null,
            "_view_module": "@jupyter-widgets/base",
            "_view_module_version": "1.2.0",
            "_view_name": "LayoutView",
            "align_content": null,
            "align_items": null,
            "align_self": null,
            "border": null,
            "bottom": null,
            "display": null,
            "flex": null,
            "flex_flow": null,
            "grid_area": null,
            "grid_auto_columns": null,
            "grid_auto_flow": null,
            "grid_auto_rows": null,
            "grid_column": null,
            "grid_gap": null,
            "grid_row": null,
            "grid_template_areas": null,
            "grid_template_columns": null,
            "grid_template_rows": null,
            "height": null,
            "justify_content": null,
            "justify_items": null,
            "left": null,
            "margin": null,
            "max_height": null,
            "max_width": null,
            "min_height": null,
            "min_width": null,
            "object_fit": null,
            "object_position": null,
            "order": null,
            "overflow": null,
            "overflow_x": null,
            "overflow_y": null,
            "padding": null,
            "right": null,
            "top": null,
            "visibility": null,
            "width": null
          }
        },
        "0221d6b870084e7f8c1935757fb57370": {
          "model_module": "@jupyter-widgets/controls",
          "model_module_version": "1.5.0",
          "model_name": "DescriptionStyleModel",
          "state": {
            "_model_module": "@jupyter-widgets/controls",
            "_model_module_version": "1.5.0",
            "_model_name": "DescriptionStyleModel",
            "_view_count": null,
            "_view_module": "@jupyter-widgets/base",
            "_view_module_version": "1.2.0",
            "_view_name": "StyleView",
            "description_width": ""
          }
        },
        "07ace00aebc44725a458f2c6240916ef": {
          "model_module": "@jupyter-widgets/controls",
          "model_module_version": "1.5.0",
          "model_name": "FloatProgressModel",
          "state": {
            "_dom_classes": [],
            "_model_module": "@jupyter-widgets/controls",
            "_model_module_version": "1.5.0",
            "_model_name": "FloatProgressModel",
            "_view_count": null,
            "_view_module": "@jupyter-widgets/controls",
            "_view_module_version": "1.5.0",
            "_view_name": "ProgressView",
            "bar_style": "success",
            "description": "",
            "description_tooltip": null,
            "layout": "IPY_MODEL_b605f85b35cf4c76b69276038939c98a",
            "max": 1336854282,
            "min": 0,
            "orientation": "horizontal",
            "style": "IPY_MODEL_1f2cd774c75f4ddea77c396a97d83fd6",
            "value": 1336854282
          }
        },
        "0b64fbbed1bf49db9b0ac61401650fb4": {
          "model_module": "@jupyter-widgets/base",
          "model_module_version": "1.2.0",
          "model_name": "LayoutModel",
          "state": {
            "_model_module": "@jupyter-widgets/base",
            "_model_module_version": "1.2.0",
            "_model_name": "LayoutModel",
            "_view_count": null,
            "_view_module": "@jupyter-widgets/base",
            "_view_module_version": "1.2.0",
            "_view_name": "LayoutView",
            "align_content": null,
            "align_items": null,
            "align_self": null,
            "border": null,
            "bottom": null,
            "display": null,
            "flex": null,
            "flex_flow": null,
            "grid_area": null,
            "grid_auto_columns": null,
            "grid_auto_flow": null,
            "grid_auto_rows": null,
            "grid_column": null,
            "grid_gap": null,
            "grid_row": null,
            "grid_template_areas": null,
            "grid_template_columns": null,
            "grid_template_rows": null,
            "height": null,
            "justify_content": null,
            "justify_items": null,
            "left": null,
            "margin": null,
            "max_height": null,
            "max_width": null,
            "min_height": null,
            "min_width": null,
            "object_fit": null,
            "object_position": null,
            "order": null,
            "overflow": null,
            "overflow_x": null,
            "overflow_y": null,
            "padding": null,
            "right": null,
            "top": null,
            "visibility": null,
            "width": null
          }
        },
        "13fe361c27424042a6af65d815dcccf2": {
          "model_module": "@jupyter-widgets/controls",
          "model_module_version": "1.5.0",
          "model_name": "DescriptionStyleModel",
          "state": {
            "_model_module": "@jupyter-widgets/controls",
            "_model_module_version": "1.5.0",
            "_model_name": "DescriptionStyleModel",
            "_view_count": null,
            "_view_module": "@jupyter-widgets/base",
            "_view_module_version": "1.2.0",
            "_view_name": "StyleView",
            "description_width": ""
          }
        },
        "142ebf5651984ae38df27e94e764caf2": {
          "model_module": "@jupyter-widgets/controls",
          "model_module_version": "1.5.0",
          "model_name": "DescriptionStyleModel",
          "state": {
            "_model_module": "@jupyter-widgets/controls",
            "_model_module_version": "1.5.0",
            "_model_name": "DescriptionStyleModel",
            "_view_count": null,
            "_view_module": "@jupyter-widgets/base",
            "_view_module_version": "1.2.0",
            "_view_name": "StyleView",
            "description_width": ""
          }
        },
        "1a89624858d34e8cbe23f43a9ed1ebad": {
          "model_module": "@jupyter-widgets/controls",
          "model_module_version": "1.5.0",
          "model_name": "HTMLModel",
          "state": {
            "_dom_classes": [],
            "_model_module": "@jupyter-widgets/controls",
            "_model_module_version": "1.5.0",
            "_model_name": "HTMLModel",
            "_view_count": null,
            "_view_module": "@jupyter-widgets/controls",
            "_view_module_version": "1.5.0",
            "_view_name": "HTMLView",
            "description": "",
            "description_tooltip": null,
            "layout": "IPY_MODEL_3df52ccf42a346409f675a6c53ac847c",
            "placeholder": "​",
            "style": "IPY_MODEL_7990729b7feb4936b64326a43434269c",
            "value": "model.onnx: 100%"
          }
        },
        "1dc33f1e82d14b5a96262b6e774aec90": {
          "model_module": "@jupyter-widgets/base",
          "model_module_version": "1.2.0",
          "model_name": "LayoutModel",
          "state": {
            "_model_module": "@jupyter-widgets/base",
            "_model_module_version": "1.2.0",
            "_model_name": "LayoutModel",
            "_view_count": null,
            "_view_module": "@jupyter-widgets/base",
            "_view_module_version": "1.2.0",
            "_view_name": "LayoutView",
            "align_content": null,
            "align_items": null,
            "align_self": null,
            "border": null,
            "bottom": null,
            "display": null,
            "flex": null,
            "flex_flow": null,
            "grid_area": null,
            "grid_auto_columns": null,
            "grid_auto_flow": null,
            "grid_auto_rows": null,
            "grid_column": null,
            "grid_gap": null,
            "grid_row": null,
            "grid_template_areas": null,
            "grid_template_columns": null,
            "grid_template_rows": null,
            "height": null,
            "justify_content": null,
            "justify_items": null,
            "left": null,
            "margin": null,
            "max_height": null,
            "max_width": null,
            "min_height": null,
            "min_width": null,
            "object_fit": null,
            "object_position": null,
            "order": null,
            "overflow": null,
            "overflow_x": null,
            "overflow_y": null,
            "padding": null,
            "right": null,
            "top": null,
            "visibility": null,
            "width": null
          }
        },
        "1f2cd774c75f4ddea77c396a97d83fd6": {
          "model_module": "@jupyter-widgets/controls",
          "model_module_version": "1.5.0",
          "model_name": "ProgressStyleModel",
          "state": {
            "_model_module": "@jupyter-widgets/controls",
            "_model_module_version": "1.5.0",
            "_model_name": "ProgressStyleModel",
            "_view_count": null,
            "_view_module": "@jupyter-widgets/base",
            "_view_module_version": "1.2.0",
            "_view_name": "StyleView",
            "bar_color": null,
            "description_width": ""
          }
        },
        "219562195c27498db7009bf595814e03": {
          "model_module": "@jupyter-widgets/controls",
          "model_module_version": "1.5.0",
          "model_name": "FloatProgressModel",
          "state": {
            "_dom_classes": [],
            "_model_module": "@jupyter-widgets/controls",
            "_model_module_version": "1.5.0",
            "_model_name": "FloatProgressModel",
            "_view_count": null,
            "_view_module": "@jupyter-widgets/controls",
            "_view_module_version": "1.5.0",
            "_view_name": "ProgressView",
            "bar_style": "success",
            "description": "",
            "description_tooltip": null,
            "layout": "IPY_MODEL_53af90d0dd4c4eeabbde33a55e8bfee5",
            "max": 695,
            "min": 0,
            "orientation": "horizontal",
            "style": "IPY_MODEL_bf2494a73eaf4338bba8864182db107f",
            "value": 695
          }
        },
        "327d75fba01b41d8972ef6531cb294d3": {
          "model_module": "@jupyter-widgets/controls",
          "model_module_version": "1.5.0",
          "model_name": "HBoxModel",
          "state": {
            "_dom_classes": [],
            "_model_module": "@jupyter-widgets/controls",
            "_model_module_version": "1.5.0",
            "_model_name": "HBoxModel",
            "_view_count": null,
            "_view_module": "@jupyter-widgets/controls",
            "_view_module_version": "1.5.0",
            "_view_name": "HBoxView",
            "box_style": "",
            "children": [
              "IPY_MODEL_61f52bb07ccb4a9a8602d4f912735adb",
              "IPY_MODEL_fc8bf475cfed40178d2b47b9adeb9426",
              "IPY_MODEL_bf52f259c227427c922c1d4ec0ed282b"
            ],
            "layout": "IPY_MODEL_3cedc1217cb444ec8c2d93dd07f4fc43"
          }
        },
        "344f12dc7ba1446099e4f78909d902b2": {
          "model_module": "@jupyter-widgets/controls",
          "model_module_version": "1.5.0",
          "model_name": "DescriptionStyleModel",
          "state": {
            "_model_module": "@jupyter-widgets/controls",
            "_model_module_version": "1.5.0",
            "_model_name": "DescriptionStyleModel",
            "_view_count": null,
            "_view_module": "@jupyter-widgets/base",
            "_view_module_version": "1.2.0",
            "_view_name": "StyleView",
            "description_width": ""
          }
        },
        "374a86f25bd54223a994a553e4cad7a1": {
          "model_module": "@jupyter-widgets/controls",
          "model_module_version": "1.5.0",
          "model_name": "DescriptionStyleModel",
          "state": {
            "_model_module": "@jupyter-widgets/controls",
            "_model_module_version": "1.5.0",
            "_model_name": "DescriptionStyleModel",
            "_view_count": null,
            "_view_module": "@jupyter-widgets/base",
            "_view_module_version": "1.2.0",
            "_view_name": "StyleView",
            "description_width": ""
          }
        },
        "37aa1beb1d9a4b9ba5e16721168ae4e0": {
          "model_module": "@jupyter-widgets/base",
          "model_module_version": "1.2.0",
          "model_name": "LayoutModel",
          "state": {
            "_model_module": "@jupyter-widgets/base",
            "_model_module_version": "1.2.0",
            "_model_name": "LayoutModel",
            "_view_count": null,
            "_view_module": "@jupyter-widgets/base",
            "_view_module_version": "1.2.0",
            "_view_name": "LayoutView",
            "align_content": null,
            "align_items": null,
            "align_self": null,
            "border": null,
            "bottom": null,
            "display": null,
            "flex": null,
            "flex_flow": null,
            "grid_area": null,
            "grid_auto_columns": null,
            "grid_auto_flow": null,
            "grid_auto_rows": null,
            "grid_column": null,
            "grid_gap": null,
            "grid_row": null,
            "grid_template_areas": null,
            "grid_template_columns": null,
            "grid_template_rows": null,
            "height": null,
            "justify_content": null,
            "justify_items": null,
            "left": null,
            "margin": null,
            "max_height": null,
            "max_width": null,
            "min_height": null,
            "min_width": null,
            "object_fit": null,
            "object_position": null,
            "order": null,
            "overflow": null,
            "overflow_x": null,
            "overflow_y": null,
            "padding": null,
            "right": null,
            "top": null,
            "visibility": null,
            "width": null
          }
        },
        "37c019f524cf4d0da1b3c7c4546c3f53": {
          "model_module": "@jupyter-widgets/controls",
          "model_module_version": "1.5.0",
          "model_name": "ProgressStyleModel",
          "state": {
            "_model_module": "@jupyter-widgets/controls",
            "_model_module_version": "1.5.0",
            "_model_name": "ProgressStyleModel",
            "_view_count": null,
            "_view_module": "@jupyter-widgets/base",
            "_view_module_version": "1.2.0",
            "_view_name": "StyleView",
            "bar_color": null,
            "description_width": ""
          }
        },
        "3cedc1217cb444ec8c2d93dd07f4fc43": {
          "model_module": "@jupyter-widgets/base",
          "model_module_version": "1.2.0",
          "model_name": "LayoutModel",
          "state": {
            "_model_module": "@jupyter-widgets/base",
            "_model_module_version": "1.2.0",
            "_model_name": "LayoutModel",
            "_view_count": null,
            "_view_module": "@jupyter-widgets/base",
            "_view_module_version": "1.2.0",
            "_view_name": "LayoutView",
            "align_content": null,
            "align_items": null,
            "align_self": null,
            "border": null,
            "bottom": null,
            "display": null,
            "flex": null,
            "flex_flow": null,
            "grid_area": null,
            "grid_auto_columns": null,
            "grid_auto_flow": null,
            "grid_auto_rows": null,
            "grid_column": null,
            "grid_gap": null,
            "grid_row": null,
            "grid_template_areas": null,
            "grid_template_columns": null,
            "grid_template_rows": null,
            "height": null,
            "justify_content": null,
            "justify_items": null,
            "left": null,
            "margin": null,
            "max_height": null,
            "max_width": null,
            "min_height": null,
            "min_width": null,
            "object_fit": null,
            "object_position": null,
            "order": null,
            "overflow": null,
            "overflow_x": null,
            "overflow_y": null,
            "padding": null,
            "right": null,
            "top": null,
            "visibility": null,
            "width": null
          }
        },
        "3df52ccf42a346409f675a6c53ac847c": {
          "model_module": "@jupyter-widgets/base",
          "model_module_version": "1.2.0",
          "model_name": "LayoutModel",
          "state": {
            "_model_module": "@jupyter-widgets/base",
            "_model_module_version": "1.2.0",
            "_model_name": "LayoutModel",
            "_view_count": null,
            "_view_module": "@jupyter-widgets/base",
            "_view_module_version": "1.2.0",
            "_view_name": "LayoutView",
            "align_content": null,
            "align_items": null,
            "align_self": null,
            "border": null,
            "bottom": null,
            "display": null,
            "flex": null,
            "flex_flow": null,
            "grid_area": null,
            "grid_auto_columns": null,
            "grid_auto_flow": null,
            "grid_auto_rows": null,
            "grid_column": null,
            "grid_gap": null,
            "grid_row": null,
            "grid_template_areas": null,
            "grid_template_columns": null,
            "grid_template_rows": null,
            "height": null,
            "justify_content": null,
            "justify_items": null,
            "left": null,
            "margin": null,
            "max_height": null,
            "max_width": null,
            "min_height": null,
            "min_width": null,
            "object_fit": null,
            "object_position": null,
            "order": null,
            "overflow": null,
            "overflow_x": null,
            "overflow_y": null,
            "padding": null,
            "right": null,
            "top": null,
            "visibility": null,
            "width": null
          }
        },
        "3ef769e2fdf040159db8b00476497613": {
          "model_module": "@jupyter-widgets/base",
          "model_module_version": "1.2.0",
          "model_name": "LayoutModel",
          "state": {
            "_model_module": "@jupyter-widgets/base",
            "_model_module_version": "1.2.0",
            "_model_name": "LayoutModel",
            "_view_count": null,
            "_view_module": "@jupyter-widgets/base",
            "_view_module_version": "1.2.0",
            "_view_name": "LayoutView",
            "align_content": null,
            "align_items": null,
            "align_self": null,
            "border": null,
            "bottom": null,
            "display": null,
            "flex": null,
            "flex_flow": null,
            "grid_area": null,
            "grid_auto_columns": null,
            "grid_auto_flow": null,
            "grid_auto_rows": null,
            "grid_column": null,
            "grid_gap": null,
            "grid_row": null,
            "grid_template_areas": null,
            "grid_template_columns": null,
            "grid_template_rows": null,
            "height": null,
            "justify_content": null,
            "justify_items": null,
            "left": null,
            "margin": null,
            "max_height": null,
            "max_width": null,
            "min_height": null,
            "min_width": null,
            "object_fit": null,
            "object_position": null,
            "order": null,
            "overflow": null,
            "overflow_x": null,
            "overflow_y": null,
            "padding": null,
            "right": null,
            "top": null,
            "visibility": null,
            "width": null
          }
        },
        "40c2d553e0cb4c88be6586d9f2c2167c": {
          "model_module": "@jupyter-widgets/base",
          "model_module_version": "1.2.0",
          "model_name": "LayoutModel",
          "state": {
            "_model_module": "@jupyter-widgets/base",
            "_model_module_version": "1.2.0",
            "_model_name": "LayoutModel",
            "_view_count": null,
            "_view_module": "@jupyter-widgets/base",
            "_view_module_version": "1.2.0",
            "_view_name": "LayoutView",
            "align_content": null,
            "align_items": null,
            "align_self": null,
            "border": null,
            "bottom": null,
            "display": null,
            "flex": null,
            "flex_flow": null,
            "grid_area": null,
            "grid_auto_columns": null,
            "grid_auto_flow": null,
            "grid_auto_rows": null,
            "grid_column": null,
            "grid_gap": null,
            "grid_row": null,
            "grid_template_areas": null,
            "grid_template_columns": null,
            "grid_template_rows": null,
            "height": null,
            "justify_content": null,
            "justify_items": null,
            "left": null,
            "margin": null,
            "max_height": null,
            "max_width": null,
            "min_height": null,
            "min_width": null,
            "object_fit": null,
            "object_position": null,
            "order": null,
            "overflow": null,
            "overflow_x": null,
            "overflow_y": null,
            "padding": null,
            "right": null,
            "top": null,
            "visibility": null,
            "width": null
          }
        },
        "43070328e35f40e7ab1c5cb091414426": {
          "model_module": "@jupyter-widgets/controls",
          "model_module_version": "1.5.0",
          "model_name": "DescriptionStyleModel",
          "state": {
            "_model_module": "@jupyter-widgets/controls",
            "_model_module_version": "1.5.0",
            "_model_name": "DescriptionStyleModel",
            "_view_count": null,
            "_view_module": "@jupyter-widgets/base",
            "_view_module_version": "1.2.0",
            "_view_name": "StyleView",
            "description_width": ""
          }
        },
        "4d5c602d3e054f34943c7f5be303adba": {
          "model_module": "@jupyter-widgets/base",
          "model_module_version": "1.2.0",
          "model_name": "LayoutModel",
          "state": {
            "_model_module": "@jupyter-widgets/base",
            "_model_module_version": "1.2.0",
            "_model_name": "LayoutModel",
            "_view_count": null,
            "_view_module": "@jupyter-widgets/base",
            "_view_module_version": "1.2.0",
            "_view_name": "LayoutView",
            "align_content": null,
            "align_items": null,
            "align_self": null,
            "border": null,
            "bottom": null,
            "display": null,
            "flex": null,
            "flex_flow": null,
            "grid_area": null,
            "grid_auto_columns": null,
            "grid_auto_flow": null,
            "grid_auto_rows": null,
            "grid_column": null,
            "grid_gap": null,
            "grid_row": null,
            "grid_template_areas": null,
            "grid_template_columns": null,
            "grid_template_rows": null,
            "height": null,
            "justify_content": null,
            "justify_items": null,
            "left": null,
            "margin": null,
            "max_height": null,
            "max_width": null,
            "min_height": null,
            "min_width": null,
            "object_fit": null,
            "object_position": null,
            "order": null,
            "overflow": null,
            "overflow_x": null,
            "overflow_y": null,
            "padding": null,
            "right": null,
            "top": null,
            "visibility": null,
            "width": null
          }
        },
        "4da6e7afaecd47e6bd96f7920ec1c8fc": {
          "model_module": "@jupyter-widgets/controls",
          "model_module_version": "1.5.0",
          "model_name": "HBoxModel",
          "state": {
            "_dom_classes": [],
            "_model_module": "@jupyter-widgets/controls",
            "_model_module_version": "1.5.0",
            "_model_name": "HBoxModel",
            "_view_count": null,
            "_view_module": "@jupyter-widgets/controls",
            "_view_module_version": "1.5.0",
            "_view_name": "HBoxView",
            "box_style": "",
            "children": [
              "IPY_MODEL_fc2002e7b50f4a5da06c10f01a37fbf8",
              "IPY_MODEL_d9f4db95a6da453fab2954381f01ecbb",
              "IPY_MODEL_f7c6b89e0fe6479e92b480aabc21a455"
            ],
            "layout": "IPY_MODEL_01366efd5be9417bb35be7717261ca2e"
          }
        },
        "50852c1b4c7f4c1cbde9c112ea44e35f": {
          "model_module": "@jupyter-widgets/base",
          "model_module_version": "1.2.0",
          "model_name": "LayoutModel",
          "state": {
            "_model_module": "@jupyter-widgets/base",
            "_model_module_version": "1.2.0",
            "_model_name": "LayoutModel",
            "_view_count": null,
            "_view_module": "@jupyter-widgets/base",
            "_view_module_version": "1.2.0",
            "_view_name": "LayoutView",
            "align_content": null,
            "align_items": null,
            "align_self": null,
            "border": null,
            "bottom": null,
            "display": null,
            "flex": null,
            "flex_flow": null,
            "grid_area": null,
            "grid_auto_columns": null,
            "grid_auto_flow": null,
            "grid_auto_rows": null,
            "grid_column": null,
            "grid_gap": null,
            "grid_row": null,
            "grid_template_areas": null,
            "grid_template_columns": null,
            "grid_template_rows": null,
            "height": null,
            "justify_content": null,
            "justify_items": null,
            "left": null,
            "margin": null,
            "max_height": null,
            "max_width": null,
            "min_height": null,
            "min_width": null,
            "object_fit": null,
            "object_position": null,
            "order": null,
            "overflow": null,
            "overflow_x": null,
            "overflow_y": null,
            "padding": null,
            "right": null,
            "top": null,
            "visibility": null,
            "width": null
          }
        },
        "53af90d0dd4c4eeabbde33a55e8bfee5": {
          "model_module": "@jupyter-widgets/base",
          "model_module_version": "1.2.0",
          "model_name": "LayoutModel",
          "state": {
            "_model_module": "@jupyter-widgets/base",
            "_model_module_version": "1.2.0",
            "_model_name": "LayoutModel",
            "_view_count": null,
            "_view_module": "@jupyter-widgets/base",
            "_view_module_version": "1.2.0",
            "_view_name": "LayoutView",
            "align_content": null,
            "align_items": null,
            "align_self": null,
            "border": null,
            "bottom": null,
            "display": null,
            "flex": null,
            "flex_flow": null,
            "grid_area": null,
            "grid_auto_columns": null,
            "grid_auto_flow": null,
            "grid_auto_rows": null,
            "grid_column": null,
            "grid_gap": null,
            "grid_row": null,
            "grid_template_areas": null,
            "grid_template_columns": null,
            "grid_template_rows": null,
            "height": null,
            "justify_content": null,
            "justify_items": null,
            "left": null,
            "margin": null,
            "max_height": null,
            "max_width": null,
            "min_height": null,
            "min_width": null,
            "object_fit": null,
            "object_position": null,
            "order": null,
            "overflow": null,
            "overflow_x": null,
            "overflow_y": null,
            "padding": null,
            "right": null,
            "top": null,
            "visibility": null,
            "width": null
          }
        },
        "53fac69e080b48828da66fc4c5811b35": {
          "model_module": "@jupyter-widgets/base",
          "model_module_version": "1.2.0",
          "model_name": "LayoutModel",
          "state": {
            "_model_module": "@jupyter-widgets/base",
            "_model_module_version": "1.2.0",
            "_model_name": "LayoutModel",
            "_view_count": null,
            "_view_module": "@jupyter-widgets/base",
            "_view_module_version": "1.2.0",
            "_view_name": "LayoutView",
            "align_content": null,
            "align_items": null,
            "align_self": null,
            "border": null,
            "bottom": null,
            "display": null,
            "flex": null,
            "flex_flow": null,
            "grid_area": null,
            "grid_auto_columns": null,
            "grid_auto_flow": null,
            "grid_auto_rows": null,
            "grid_column": null,
            "grid_gap": null,
            "grid_row": null,
            "grid_template_areas": null,
            "grid_template_columns": null,
            "grid_template_rows": null,
            "height": null,
            "justify_content": null,
            "justify_items": null,
            "left": null,
            "margin": null,
            "max_height": null,
            "max_width": null,
            "min_height": null,
            "min_width": null,
            "object_fit": null,
            "object_position": null,
            "order": null,
            "overflow": null,
            "overflow_x": null,
            "overflow_y": null,
            "padding": null,
            "right": null,
            "top": null,
            "visibility": null,
            "width": null
          }
        },
        "55f99480d5a3486faf88bd5986da6018": {
          "model_module": "@jupyter-widgets/controls",
          "model_module_version": "1.5.0",
          "model_name": "ProgressStyleModel",
          "state": {
            "_model_module": "@jupyter-widgets/controls",
            "_model_module_version": "1.5.0",
            "_model_name": "ProgressStyleModel",
            "_view_count": null,
            "_view_module": "@jupyter-widgets/base",
            "_view_module_version": "1.2.0",
            "_view_name": "StyleView",
            "bar_color": null,
            "description_width": ""
          }
        },
        "5cd54f869d46429abc4c886a9676f97c": {
          "model_module": "@jupyter-widgets/controls",
          "model_module_version": "1.5.0",
          "model_name": "HBoxModel",
          "state": {
            "_dom_classes": [],
            "_model_module": "@jupyter-widgets/controls",
            "_model_module_version": "1.5.0",
            "_model_name": "HBoxModel",
            "_view_count": null,
            "_view_module": "@jupyter-widgets/controls",
            "_view_module_version": "1.5.0",
            "_view_name": "HBoxView",
            "box_style": "",
            "children": [
              "IPY_MODEL_6c9cbf062bd44ffdaf2102aaa163aec6",
              "IPY_MODEL_915ff769c0dc4a539b7840db9653c38e",
              "IPY_MODEL_7ecb04ed974e4a8fa1524bd652d44a50"
            ],
            "layout": "IPY_MODEL_40c2d553e0cb4c88be6586d9f2c2167c"
          }
        },
        "5ebfeb03cc26413eb62411fcd179fe16": {
          "model_module": "@jupyter-widgets/base",
          "model_module_version": "1.2.0",
          "model_name": "LayoutModel",
          "state": {
            "_model_module": "@jupyter-widgets/base",
            "_model_module_version": "1.2.0",
            "_model_name": "LayoutModel",
            "_view_count": null,
            "_view_module": "@jupyter-widgets/base",
            "_view_module_version": "1.2.0",
            "_view_name": "LayoutView",
            "align_content": null,
            "align_items": null,
            "align_self": null,
            "border": null,
            "bottom": null,
            "display": null,
            "flex": null,
            "flex_flow": null,
            "grid_area": null,
            "grid_auto_columns": null,
            "grid_auto_flow": null,
            "grid_auto_rows": null,
            "grid_column": null,
            "grid_gap": null,
            "grid_row": null,
            "grid_template_areas": null,
            "grid_template_columns": null,
            "grid_template_rows": null,
            "height": null,
            "justify_content": null,
            "justify_items": null,
            "left": null,
            "margin": null,
            "max_height": null,
            "max_width": null,
            "min_height": null,
            "min_width": null,
            "object_fit": null,
            "object_position": null,
            "order": null,
            "overflow": null,
            "overflow_x": null,
            "overflow_y": null,
            "padding": null,
            "right": null,
            "top": null,
            "visibility": null,
            "width": null
          }
        },
        "61f52bb07ccb4a9a8602d4f912735adb": {
          "model_module": "@jupyter-widgets/controls",
          "model_module_version": "1.5.0",
          "model_name": "HTMLModel",
          "state": {
            "_dom_classes": [],
            "_model_module": "@jupyter-widgets/controls",
            "_model_module_version": "1.5.0",
            "_model_name": "HTMLModel",
            "_view_count": null,
            "_view_module": "@jupyter-widgets/controls",
            "_view_module_version": "1.5.0",
            "_view_name": "HTMLView",
            "description": "",
            "description_tooltip": null,
            "layout": "IPY_MODEL_5ebfeb03cc26413eb62411fcd179fe16",
            "placeholder": "​",
            "style": "IPY_MODEL_142ebf5651984ae38df27e94e764caf2",
            "value": "Fetching 5 files: 100%"
          }
        },
        "6819f0e48ed342858de1f4186957d296": {
          "model_module": "@jupyter-widgets/controls",
          "model_module_version": "1.5.0",
          "model_name": "HTMLModel",
          "state": {
            "_dom_classes": [],
            "_model_module": "@jupyter-widgets/controls",
            "_model_module_version": "1.5.0",
            "_model_name": "HTMLModel",
            "_view_count": null,
            "_view_module": "@jupyter-widgets/controls",
            "_view_module_version": "1.5.0",
            "_view_name": "HTMLView",
            "description": "",
            "description_tooltip": null,
            "layout": "IPY_MODEL_dbdf6ec2049b4bfeb0c4d7255430a5cb",
            "placeholder": "​",
            "style": "IPY_MODEL_a049e116a2fd4d29ab76b600db009f3f",
            "value": "special_tokens_map.json: 100%"
          }
        },
        "6836be8d2865457b9f73012d1c95d774": {
          "model_module": "@jupyter-widgets/controls",
          "model_module_version": "1.5.0",
          "model_name": "HTMLModel",
          "state": {
            "_dom_classes": [],
            "_model_module": "@jupyter-widgets/controls",
            "_model_module_version": "1.5.0",
            "_model_name": "HTMLModel",
            "_view_count": null,
            "_view_module": "@jupyter-widgets/controls",
            "_view_module_version": "1.5.0",
            "_view_name": "HTMLView",
            "description": "",
            "description_tooltip": null,
            "layout": "IPY_MODEL_a859c848207f417789f8dd5595cae3a6",
            "placeholder": "​",
            "style": "IPY_MODEL_9ae99cc8d1304f04af3feac13e1bea11",
            "value": " 712k/712k [00:00&lt;00:00, 1.07MB/s]"
          }
        },
        "6c9cbf062bd44ffdaf2102aaa163aec6": {
          "model_module": "@jupyter-widgets/controls",
          "model_module_version": "1.5.0",
          "model_name": "HTMLModel",
          "state": {
            "_dom_classes": [],
            "_model_module": "@jupyter-widgets/controls",
            "_model_module_version": "1.5.0",
            "_model_name": "HTMLModel",
            "_view_count": null,
            "_view_module": "@jupyter-widgets/controls",
            "_view_module_version": "1.5.0",
            "_view_name": "HTMLView",
            "description": "",
            "description_tooltip": null,
            "layout": "IPY_MODEL_0b64fbbed1bf49db9b0ac61401650fb4",
            "placeholder": "​",
            "style": "IPY_MODEL_0221d6b870084e7f8c1935757fb57370",
            "value": "config.json: 100%"
          }
        },
        "6cb6478a4bc84ecca4c9a85396c78fe3": {
          "model_module": "@jupyter-widgets/controls",
          "model_module_version": "1.5.0",
          "model_name": "HTMLModel",
          "state": {
            "_dom_classes": [],
            "_model_module": "@jupyter-widgets/controls",
            "_model_module_version": "1.5.0",
            "_model_name": "HTMLModel",
            "_view_count": null,
            "_view_module": "@jupyter-widgets/controls",
            "_view_module_version": "1.5.0",
            "_view_name": "HTMLView",
            "description": "",
            "description_tooltip": null,
            "layout": "IPY_MODEL_85bf883b1763427aa88e00b6e767b668",
            "placeholder": "​",
            "style": "IPY_MODEL_43070328e35f40e7ab1c5cb091414426",
            "value": " 1.34G/1.34G [00:05&lt;00:00, 254MB/s]"
          }
        },
        "6f35980cc29647b7b261f628bd26ab29": {
          "model_module": "@jupyter-widgets/controls",
          "model_module_version": "1.5.0",
          "model_name": "HBoxModel",
          "state": {
            "_dom_classes": [],
            "_model_module": "@jupyter-widgets/controls",
            "_model_module_version": "1.5.0",
            "_model_name": "HBoxModel",
            "_view_count": null,
            "_view_module": "@jupyter-widgets/controls",
            "_view_module_version": "1.5.0",
            "_view_name": "HBoxView",
            "box_style": "",
            "children": [
              "IPY_MODEL_98b57985cd51497a922d5b8016e0d30c",
              "IPY_MODEL_e883e59c30884a17b04b3fffc6bc2333",
              "IPY_MODEL_6836be8d2865457b9f73012d1c95d774"
            ],
            "layout": "IPY_MODEL_53fac69e080b48828da66fc4c5811b35"
          }
        },
        "716d2907a26a4390beb6c9c8c4c22b04": {
          "model_module": "@jupyter-widgets/base",
          "model_module_version": "1.2.0",
          "model_name": "LayoutModel",
          "state": {
            "_model_module": "@jupyter-widgets/base",
            "_model_module_version": "1.2.0",
            "_model_name": "LayoutModel",
            "_view_count": null,
            "_view_module": "@jupyter-widgets/base",
            "_view_module_version": "1.2.0",
            "_view_name": "LayoutView",
            "align_content": null,
            "align_items": null,
            "align_self": null,
            "border": null,
            "bottom": null,
            "display": null,
            "flex": null,
            "flex_flow": null,
            "grid_area": null,
            "grid_auto_columns": null,
            "grid_auto_flow": null,
            "grid_auto_rows": null,
            "grid_column": null,
            "grid_gap": null,
            "grid_row": null,
            "grid_template_areas": null,
            "grid_template_columns": null,
            "grid_template_rows": null,
            "height": null,
            "justify_content": null,
            "justify_items": null,
            "left": null,
            "margin": null,
            "max_height": null,
            "max_width": null,
            "min_height": null,
            "min_width": null,
            "object_fit": null,
            "object_position": null,
            "order": null,
            "overflow": null,
            "overflow_x": null,
            "overflow_y": null,
            "padding": null,
            "right": null,
            "top": null,
            "visibility": null,
            "width": null
          }
        },
        "7990729b7feb4936b64326a43434269c": {
          "model_module": "@jupyter-widgets/controls",
          "model_module_version": "1.5.0",
          "model_name": "DescriptionStyleModel",
          "state": {
            "_model_module": "@jupyter-widgets/controls",
            "_model_module_version": "1.5.0",
            "_model_name": "DescriptionStyleModel",
            "_view_count": null,
            "_view_module": "@jupyter-widgets/base",
            "_view_module_version": "1.2.0",
            "_view_name": "StyleView",
            "description_width": ""
          }
        },
        "799688a79f32494b99f9624410559218": {
          "model_module": "@jupyter-widgets/base",
          "model_module_version": "1.2.0",
          "model_name": "LayoutModel",
          "state": {
            "_model_module": "@jupyter-widgets/base",
            "_model_module_version": "1.2.0",
            "_model_name": "LayoutModel",
            "_view_count": null,
            "_view_module": "@jupyter-widgets/base",
            "_view_module_version": "1.2.0",
            "_view_name": "LayoutView",
            "align_content": null,
            "align_items": null,
            "align_self": null,
            "border": null,
            "bottom": null,
            "display": null,
            "flex": null,
            "flex_flow": null,
            "grid_area": null,
            "grid_auto_columns": null,
            "grid_auto_flow": null,
            "grid_auto_rows": null,
            "grid_column": null,
            "grid_gap": null,
            "grid_row": null,
            "grid_template_areas": null,
            "grid_template_columns": null,
            "grid_template_rows": null,
            "height": null,
            "justify_content": null,
            "justify_items": null,
            "left": null,
            "margin": null,
            "max_height": null,
            "max_width": null,
            "min_height": null,
            "min_width": null,
            "object_fit": null,
            "object_position": null,
            "order": null,
            "overflow": null,
            "overflow_x": null,
            "overflow_y": null,
            "padding": null,
            "right": null,
            "top": null,
            "visibility": null,
            "width": null
          }
        },
        "7ecb04ed974e4a8fa1524bd652d44a50": {
          "model_module": "@jupyter-widgets/controls",
          "model_module_version": "1.5.0",
          "model_name": "HTMLModel",
          "state": {
            "_dom_classes": [],
            "_model_module": "@jupyter-widgets/controls",
            "_model_module_version": "1.5.0",
            "_model_name": "HTMLModel",
            "_view_count": null,
            "_view_module": "@jupyter-widgets/controls",
            "_view_module_version": "1.5.0",
            "_view_name": "HTMLView",
            "description": "",
            "description_tooltip": null,
            "layout": "IPY_MODEL_4d5c602d3e054f34943c7f5be303adba",
            "placeholder": "​",
            "style": "IPY_MODEL_13fe361c27424042a6af65d815dcccf2",
            "value": " 660/660 [00:00&lt;00:00, 15.9kB/s]"
          }
        },
        "85bf883b1763427aa88e00b6e767b668": {
          "model_module": "@jupyter-widgets/base",
          "model_module_version": "1.2.0",
          "model_name": "LayoutModel",
          "state": {
            "_model_module": "@jupyter-widgets/base",
            "_model_module_version": "1.2.0",
            "_model_name": "LayoutModel",
            "_view_count": null,
            "_view_module": "@jupyter-widgets/base",
            "_view_module_version": "1.2.0",
            "_view_name": "LayoutView",
            "align_content": null,
            "align_items": null,
            "align_self": null,
            "border": null,
            "bottom": null,
            "display": null,
            "flex": null,
            "flex_flow": null,
            "grid_area": null,
            "grid_auto_columns": null,
            "grid_auto_flow": null,
            "grid_auto_rows": null,
            "grid_column": null,
            "grid_gap": null,
            "grid_row": null,
            "grid_template_areas": null,
            "grid_template_columns": null,
            "grid_template_rows": null,
            "height": null,
            "justify_content": null,
            "justify_items": null,
            "left": null,
            "margin": null,
            "max_height": null,
            "max_width": null,
            "min_height": null,
            "min_width": null,
            "object_fit": null,
            "object_position": null,
            "order": null,
            "overflow": null,
            "overflow_x": null,
            "overflow_y": null,
            "padding": null,
            "right": null,
            "top": null,
            "visibility": null,
            "width": null
          }
        },
        "8aca33bd03244152abf06abd39c86e4c": {
          "model_module": "@jupyter-widgets/controls",
          "model_module_version": "1.5.0",
          "model_name": "DescriptionStyleModel",
          "state": {
            "_model_module": "@jupyter-widgets/controls",
            "_model_module_version": "1.5.0",
            "_model_name": "DescriptionStyleModel",
            "_view_count": null,
            "_view_module": "@jupyter-widgets/base",
            "_view_module_version": "1.2.0",
            "_view_name": "StyleView",
            "description_width": ""
          }
        },
        "915ff769c0dc4a539b7840db9653c38e": {
          "model_module": "@jupyter-widgets/controls",
          "model_module_version": "1.5.0",
          "model_name": "FloatProgressModel",
          "state": {
            "_dom_classes": [],
            "_model_module": "@jupyter-widgets/controls",
            "_model_module_version": "1.5.0",
            "_model_name": "FloatProgressModel",
            "_view_count": null,
            "_view_module": "@jupyter-widgets/controls",
            "_view_module_version": "1.5.0",
            "_view_name": "ProgressView",
            "bar_style": "success",
            "description": "",
            "description_tooltip": null,
            "layout": "IPY_MODEL_fec6d6b03cf94e359ba6ac252c7188fa",
            "max": 660,
            "min": 0,
            "orientation": "horizontal",
            "style": "IPY_MODEL_adab149c9f884aac8ae16ec12b7b9e1b",
            "value": 660
          }
        },
        "98b57985cd51497a922d5b8016e0d30c": {
          "model_module": "@jupyter-widgets/controls",
          "model_module_version": "1.5.0",
          "model_name": "HTMLModel",
          "state": {
            "_dom_classes": [],
            "_model_module": "@jupyter-widgets/controls",
            "_model_module_version": "1.5.0",
            "_model_name": "HTMLModel",
            "_view_count": null,
            "_view_module": "@jupyter-widgets/controls",
            "_view_module_version": "1.5.0",
            "_view_name": "HTMLView",
            "description": "",
            "description_tooltip": null,
            "layout": "IPY_MODEL_1dc33f1e82d14b5a96262b6e774aec90",
            "placeholder": "​",
            "style": "IPY_MODEL_ab076e96eb424491a7196343b79abe32",
            "value": "tokenizer.json: 100%"
          }
        },
        "9ae99cc8d1304f04af3feac13e1bea11": {
          "model_module": "@jupyter-widgets/controls",
          "model_module_version": "1.5.0",
          "model_name": "DescriptionStyleModel",
          "state": {
            "_model_module": "@jupyter-widgets/controls",
            "_model_module_version": "1.5.0",
            "_model_name": "DescriptionStyleModel",
            "_view_count": null,
            "_view_module": "@jupyter-widgets/base",
            "_view_module_version": "1.2.0",
            "_view_name": "StyleView",
            "description_width": ""
          }
        },
        "a049e116a2fd4d29ab76b600db009f3f": {
          "model_module": "@jupyter-widgets/controls",
          "model_module_version": "1.5.0",
          "model_name": "DescriptionStyleModel",
          "state": {
            "_model_module": "@jupyter-widgets/controls",
            "_model_module_version": "1.5.0",
            "_model_name": "DescriptionStyleModel",
            "_view_count": null,
            "_view_module": "@jupyter-widgets/base",
            "_view_module_version": "1.2.0",
            "_view_name": "StyleView",
            "description_width": ""
          }
        },
        "a72ceef9a2354b899fbb4a1d456ce173": {
          "model_module": "@jupyter-widgets/base",
          "model_module_version": "1.2.0",
          "model_name": "LayoutModel",
          "state": {
            "_model_module": "@jupyter-widgets/base",
            "_model_module_version": "1.2.0",
            "_model_name": "LayoutModel",
            "_view_count": null,
            "_view_module": "@jupyter-widgets/base",
            "_view_module_version": "1.2.0",
            "_view_name": "LayoutView",
            "align_content": null,
            "align_items": null,
            "align_self": null,
            "border": null,
            "bottom": null,
            "display": null,
            "flex": null,
            "flex_flow": null,
            "grid_area": null,
            "grid_auto_columns": null,
            "grid_auto_flow": null,
            "grid_auto_rows": null,
            "grid_column": null,
            "grid_gap": null,
            "grid_row": null,
            "grid_template_areas": null,
            "grid_template_columns": null,
            "grid_template_rows": null,
            "height": null,
            "justify_content": null,
            "justify_items": null,
            "left": null,
            "margin": null,
            "max_height": null,
            "max_width": null,
            "min_height": null,
            "min_width": null,
            "object_fit": null,
            "object_position": null,
            "order": null,
            "overflow": null,
            "overflow_x": null,
            "overflow_y": null,
            "padding": null,
            "right": null,
            "top": null,
            "visibility": null,
            "width": null
          }
        },
        "a859c848207f417789f8dd5595cae3a6": {
          "model_module": "@jupyter-widgets/base",
          "model_module_version": "1.2.0",
          "model_name": "LayoutModel",
          "state": {
            "_model_module": "@jupyter-widgets/base",
            "_model_module_version": "1.2.0",
            "_model_name": "LayoutModel",
            "_view_count": null,
            "_view_module": "@jupyter-widgets/base",
            "_view_module_version": "1.2.0",
            "_view_name": "LayoutView",
            "align_content": null,
            "align_items": null,
            "align_self": null,
            "border": null,
            "bottom": null,
            "display": null,
            "flex": null,
            "flex_flow": null,
            "grid_area": null,
            "grid_auto_columns": null,
            "grid_auto_flow": null,
            "grid_auto_rows": null,
            "grid_column": null,
            "grid_gap": null,
            "grid_row": null,
            "grid_template_areas": null,
            "grid_template_columns": null,
            "grid_template_rows": null,
            "height": null,
            "justify_content": null,
            "justify_items": null,
            "left": null,
            "margin": null,
            "max_height": null,
            "max_width": null,
            "min_height": null,
            "min_width": null,
            "object_fit": null,
            "object_position": null,
            "order": null,
            "overflow": null,
            "overflow_x": null,
            "overflow_y": null,
            "padding": null,
            "right": null,
            "top": null,
            "visibility": null,
            "width": null
          }
        },
        "ab076e96eb424491a7196343b79abe32": {
          "model_module": "@jupyter-widgets/controls",
          "model_module_version": "1.5.0",
          "model_name": "DescriptionStyleModel",
          "state": {
            "_model_module": "@jupyter-widgets/controls",
            "_model_module_version": "1.5.0",
            "_model_name": "DescriptionStyleModel",
            "_view_count": null,
            "_view_module": "@jupyter-widgets/base",
            "_view_module_version": "1.2.0",
            "_view_name": "StyleView",
            "description_width": ""
          }
        },
        "adab149c9f884aac8ae16ec12b7b9e1b": {
          "model_module": "@jupyter-widgets/controls",
          "model_module_version": "1.5.0",
          "model_name": "ProgressStyleModel",
          "state": {
            "_model_module": "@jupyter-widgets/controls",
            "_model_module_version": "1.5.0",
            "_model_name": "ProgressStyleModel",
            "_view_count": null,
            "_view_module": "@jupyter-widgets/base",
            "_view_module_version": "1.2.0",
            "_view_name": "StyleView",
            "bar_color": null,
            "description_width": ""
          }
        },
        "b05e734d8a3e4cf99c2b0274a064cbd7": {
          "model_module": "@jupyter-widgets/base",
          "model_module_version": "1.2.0",
          "model_name": "LayoutModel",
          "state": {
            "_model_module": "@jupyter-widgets/base",
            "_model_module_version": "1.2.0",
            "_model_name": "LayoutModel",
            "_view_count": null,
            "_view_module": "@jupyter-widgets/base",
            "_view_module_version": "1.2.0",
            "_view_name": "LayoutView",
            "align_content": null,
            "align_items": null,
            "align_self": null,
            "border": null,
            "bottom": null,
            "display": null,
            "flex": null,
            "flex_flow": null,
            "grid_area": null,
            "grid_auto_columns": null,
            "grid_auto_flow": null,
            "grid_auto_rows": null,
            "grid_column": null,
            "grid_gap": null,
            "grid_row": null,
            "grid_template_areas": null,
            "grid_template_columns": null,
            "grid_template_rows": null,
            "height": null,
            "justify_content": null,
            "justify_items": null,
            "left": null,
            "margin": null,
            "max_height": null,
            "max_width": null,
            "min_height": null,
            "min_width": null,
            "object_fit": null,
            "object_position": null,
            "order": null,
            "overflow": null,
            "overflow_x": null,
            "overflow_y": null,
            "padding": null,
            "right": null,
            "top": null,
            "visibility": null,
            "width": null
          }
        },
        "b605f85b35cf4c76b69276038939c98a": {
          "model_module": "@jupyter-widgets/base",
          "model_module_version": "1.2.0",
          "model_name": "LayoutModel",
          "state": {
            "_model_module": "@jupyter-widgets/base",
            "_model_module_version": "1.2.0",
            "_model_name": "LayoutModel",
            "_view_count": null,
            "_view_module": "@jupyter-widgets/base",
            "_view_module_version": "1.2.0",
            "_view_name": "LayoutView",
            "align_content": null,
            "align_items": null,
            "align_self": null,
            "border": null,
            "bottom": null,
            "display": null,
            "flex": null,
            "flex_flow": null,
            "grid_area": null,
            "grid_auto_columns": null,
            "grid_auto_flow": null,
            "grid_auto_rows": null,
            "grid_column": null,
            "grid_gap": null,
            "grid_row": null,
            "grid_template_areas": null,
            "grid_template_columns": null,
            "grid_template_rows": null,
            "height": null,
            "justify_content": null,
            "justify_items": null,
            "left": null,
            "margin": null,
            "max_height": null,
            "max_width": null,
            "min_height": null,
            "min_width": null,
            "object_fit": null,
            "object_position": null,
            "order": null,
            "overflow": null,
            "overflow_x": null,
            "overflow_y": null,
            "padding": null,
            "right": null,
            "top": null,
            "visibility": null,
            "width": null
          }
        },
        "bf2494a73eaf4338bba8864182db107f": {
          "model_module": "@jupyter-widgets/controls",
          "model_module_version": "1.5.0",
          "model_name": "ProgressStyleModel",
          "state": {
            "_model_module": "@jupyter-widgets/controls",
            "_model_module_version": "1.5.0",
            "_model_name": "ProgressStyleModel",
            "_view_count": null,
            "_view_module": "@jupyter-widgets/base",
            "_view_module_version": "1.2.0",
            "_view_name": "StyleView",
            "bar_color": null,
            "description_width": ""
          }
        },
        "bf52f259c227427c922c1d4ec0ed282b": {
          "model_module": "@jupyter-widgets/controls",
          "model_module_version": "1.5.0",
          "model_name": "HTMLModel",
          "state": {
            "_dom_classes": [],
            "_model_module": "@jupyter-widgets/controls",
            "_model_module_version": "1.5.0",
            "_model_name": "HTMLModel",
            "_view_count": null,
            "_view_module": "@jupyter-widgets/controls",
            "_view_module_version": "1.5.0",
            "_view_name": "HTMLView",
            "description": "",
            "description_tooltip": null,
            "layout": "IPY_MODEL_b05e734d8a3e4cf99c2b0274a064cbd7",
            "placeholder": "​",
            "style": "IPY_MODEL_344f12dc7ba1446099e4f78909d902b2",
            "value": " 5/5 [00:06&lt;00:00,  3.51s/it]"
          }
        },
        "c0b184268b2b469f931cd2058bf6a61b": {
          "model_module": "@jupyter-widgets/base",
          "model_module_version": "1.2.0",
          "model_name": "LayoutModel",
          "state": {
            "_model_module": "@jupyter-widgets/base",
            "_model_module_version": "1.2.0",
            "_model_name": "LayoutModel",
            "_view_count": null,
            "_view_module": "@jupyter-widgets/base",
            "_view_module_version": "1.2.0",
            "_view_name": "LayoutView",
            "align_content": null,
            "align_items": null,
            "align_self": null,
            "border": null,
            "bottom": null,
            "display": null,
            "flex": null,
            "flex_flow": null,
            "grid_area": null,
            "grid_auto_columns": null,
            "grid_auto_flow": null,
            "grid_auto_rows": null,
            "grid_column": null,
            "grid_gap": null,
            "grid_row": null,
            "grid_template_areas": null,
            "grid_template_columns": null,
            "grid_template_rows": null,
            "height": null,
            "justify_content": null,
            "justify_items": null,
            "left": null,
            "margin": null,
            "max_height": null,
            "max_width": null,
            "min_height": null,
            "min_width": null,
            "object_fit": null,
            "object_position": null,
            "order": null,
            "overflow": null,
            "overflow_x": null,
            "overflow_y": null,
            "padding": null,
            "right": null,
            "top": null,
            "visibility": null,
            "width": null
          }
        },
        "c81ebc3d76fc41b092a1b4f275bb2932": {
          "model_module": "@jupyter-widgets/controls",
          "model_module_version": "1.5.0",
          "model_name": "HTMLModel",
          "state": {
            "_dom_classes": [],
            "_model_module": "@jupyter-widgets/controls",
            "_model_module_version": "1.5.0",
            "_model_name": "HTMLModel",
            "_view_count": null,
            "_view_module": "@jupyter-widgets/controls",
            "_view_module_version": "1.5.0",
            "_view_name": "HTMLView",
            "description": "",
            "description_tooltip": null,
            "layout": "IPY_MODEL_50852c1b4c7f4c1cbde9c112ea44e35f",
            "placeholder": "​",
            "style": "IPY_MODEL_374a86f25bd54223a994a553e4cad7a1",
            "value": " 695/695 [00:00&lt;00:00, 13.8kB/s]"
          }
        },
        "cfd7bd90ddab44dc889389f636cacb1b": {
          "model_module": "@jupyter-widgets/controls",
          "model_module_version": "1.5.0",
          "model_name": "HBoxModel",
          "state": {
            "_dom_classes": [],
            "_model_module": "@jupyter-widgets/controls",
            "_model_module_version": "1.5.0",
            "_model_name": "HBoxModel",
            "_view_count": null,
            "_view_module": "@jupyter-widgets/controls",
            "_view_module_version": "1.5.0",
            "_view_name": "HBoxView",
            "box_style": "",
            "children": [
              "IPY_MODEL_1a89624858d34e8cbe23f43a9ed1ebad",
              "IPY_MODEL_07ace00aebc44725a458f2c6240916ef",
              "IPY_MODEL_6cb6478a4bc84ecca4c9a85396c78fe3"
            ],
            "layout": "IPY_MODEL_a72ceef9a2354b899fbb4a1d456ce173"
          }
        },
        "d9f4db95a6da453fab2954381f01ecbb": {
          "model_module": "@jupyter-widgets/controls",
          "model_module_version": "1.5.0",
          "model_name": "FloatProgressModel",
          "state": {
            "_dom_classes": [],
            "_model_module": "@jupyter-widgets/controls",
            "_model_module_version": "1.5.0",
            "_model_name": "FloatProgressModel",
            "_view_count": null,
            "_view_module": "@jupyter-widgets/controls",
            "_view_module_version": "1.5.0",
            "_view_name": "ProgressView",
            "bar_style": "success",
            "description": "",
            "description_tooltip": null,
            "layout": "IPY_MODEL_c0b184268b2b469f931cd2058bf6a61b",
            "max": 1409,
            "min": 0,
            "orientation": "horizontal",
            "style": "IPY_MODEL_fcb5cd64864a46138de0c528a94e3116",
            "value": 1409
          }
        },
        "dbdf6ec2049b4bfeb0c4d7255430a5cb": {
          "model_module": "@jupyter-widgets/base",
          "model_module_version": "1.2.0",
          "model_name": "LayoutModel",
          "state": {
            "_model_module": "@jupyter-widgets/base",
            "_model_module_version": "1.2.0",
            "_model_name": "LayoutModel",
            "_view_count": null,
            "_view_module": "@jupyter-widgets/base",
            "_view_module_version": "1.2.0",
            "_view_name": "LayoutView",
            "align_content": null,
            "align_items": null,
            "align_self": null,
            "border": null,
            "bottom": null,
            "display": null,
            "flex": null,
            "flex_flow": null,
            "grid_area": null,
            "grid_auto_columns": null,
            "grid_auto_flow": null,
            "grid_auto_rows": null,
            "grid_column": null,
            "grid_gap": null,
            "grid_row": null,
            "grid_template_areas": null,
            "grid_template_columns": null,
            "grid_template_rows": null,
            "height": null,
            "justify_content": null,
            "justify_items": null,
            "left": null,
            "margin": null,
            "max_height": null,
            "max_width": null,
            "min_height": null,
            "min_width": null,
            "object_fit": null,
            "object_position": null,
            "order": null,
            "overflow": null,
            "overflow_x": null,
            "overflow_y": null,
            "padding": null,
            "right": null,
            "top": null,
            "visibility": null,
            "width": null
          }
        },
        "df167a8adff149fb819f8106b4a807e7": {
          "model_module": "@jupyter-widgets/controls",
          "model_module_version": "1.5.0",
          "model_name": "DescriptionStyleModel",
          "state": {
            "_model_module": "@jupyter-widgets/controls",
            "_model_module_version": "1.5.0",
            "_model_name": "DescriptionStyleModel",
            "_view_count": null,
            "_view_module": "@jupyter-widgets/base",
            "_view_module_version": "1.2.0",
            "_view_name": "StyleView",
            "description_width": ""
          }
        },
        "e25463f9a2d04dc6972db899348d0dd1": {
          "model_module": "@jupyter-widgets/base",
          "model_module_version": "1.2.0",
          "model_name": "LayoutModel",
          "state": {
            "_model_module": "@jupyter-widgets/base",
            "_model_module_version": "1.2.0",
            "_model_name": "LayoutModel",
            "_view_count": null,
            "_view_module": "@jupyter-widgets/base",
            "_view_module_version": "1.2.0",
            "_view_name": "LayoutView",
            "align_content": null,
            "align_items": null,
            "align_self": null,
            "border": null,
            "bottom": null,
            "display": null,
            "flex": null,
            "flex_flow": null,
            "grid_area": null,
            "grid_auto_columns": null,
            "grid_auto_flow": null,
            "grid_auto_rows": null,
            "grid_column": null,
            "grid_gap": null,
            "grid_row": null,
            "grid_template_areas": null,
            "grid_template_columns": null,
            "grid_template_rows": null,
            "height": null,
            "justify_content": null,
            "justify_items": null,
            "left": null,
            "margin": null,
            "max_height": null,
            "max_width": null,
            "min_height": null,
            "min_width": null,
            "object_fit": null,
            "object_position": null,
            "order": null,
            "overflow": null,
            "overflow_x": null,
            "overflow_y": null,
            "padding": null,
            "right": null,
            "top": null,
            "visibility": null,
            "width": null
          }
        },
        "e883e59c30884a17b04b3fffc6bc2333": {
          "model_module": "@jupyter-widgets/controls",
          "model_module_version": "1.5.0",
          "model_name": "FloatProgressModel",
          "state": {
            "_dom_classes": [],
            "_model_module": "@jupyter-widgets/controls",
            "_model_module_version": "1.5.0",
            "_model_name": "FloatProgressModel",
            "_view_count": null,
            "_view_module": "@jupyter-widgets/controls",
            "_view_module_version": "1.5.0",
            "_view_name": "ProgressView",
            "bar_style": "success",
            "description": "",
            "description_tooltip": null,
            "layout": "IPY_MODEL_e25463f9a2d04dc6972db899348d0dd1",
            "max": 711661,
            "min": 0,
            "orientation": "horizontal",
            "style": "IPY_MODEL_55f99480d5a3486faf88bd5986da6018",
            "value": 711661
          }
        },
        "f0b9523e3a7341b3b3a8b3e715a38635": {
          "model_module": "@jupyter-widgets/controls",
          "model_module_version": "1.5.0",
          "model_name": "HBoxModel",
          "state": {
            "_dom_classes": [],
            "_model_module": "@jupyter-widgets/controls",
            "_model_module_version": "1.5.0",
            "_model_name": "HBoxModel",
            "_view_count": null,
            "_view_module": "@jupyter-widgets/controls",
            "_view_module_version": "1.5.0",
            "_view_name": "HBoxView",
            "box_style": "",
            "children": [
              "IPY_MODEL_6819f0e48ed342858de1f4186957d296",
              "IPY_MODEL_219562195c27498db7009bf595814e03",
              "IPY_MODEL_c81ebc3d76fc41b092a1b4f275bb2932"
            ],
            "layout": "IPY_MODEL_799688a79f32494b99f9624410559218"
          }
        },
        "f7c6b89e0fe6479e92b480aabc21a455": {
          "model_module": "@jupyter-widgets/controls",
          "model_module_version": "1.5.0",
          "model_name": "HTMLModel",
          "state": {
            "_dom_classes": [],
            "_model_module": "@jupyter-widgets/controls",
            "_model_module_version": "1.5.0",
            "_model_name": "HTMLModel",
            "_view_count": null,
            "_view_module": "@jupyter-widgets/controls",
            "_view_module_version": "1.5.0",
            "_view_name": "HTMLView",
            "description": "",
            "description_tooltip": null,
            "layout": "IPY_MODEL_3ef769e2fdf040159db8b00476497613",
            "placeholder": "​",
            "style": "IPY_MODEL_8aca33bd03244152abf06abd39c86e4c",
            "value": " 1.41k/1.41k [00:00&lt;00:00, 22.6kB/s]"
          }
        },
        "fc2002e7b50f4a5da06c10f01a37fbf8": {
          "model_module": "@jupyter-widgets/controls",
          "model_module_version": "1.5.0",
          "model_name": "HTMLModel",
          "state": {
            "_dom_classes": [],
            "_model_module": "@jupyter-widgets/controls",
            "_model_module_version": "1.5.0",
            "_model_name": "HTMLModel",
            "_view_count": null,
            "_view_module": "@jupyter-widgets/controls",
            "_view_module_version": "1.5.0",
            "_view_name": "HTMLView",
            "description": "",
            "description_tooltip": null,
            "layout": "IPY_MODEL_716d2907a26a4390beb6c9c8c4c22b04",
            "placeholder": "​",
            "style": "IPY_MODEL_df167a8adff149fb819f8106b4a807e7",
            "value": "tokenizer_config.json: 100%"
          }
        },
        "fc8bf475cfed40178d2b47b9adeb9426": {
          "model_module": "@jupyter-widgets/controls",
          "model_module_version": "1.5.0",
          "model_name": "FloatProgressModel",
          "state": {
            "_dom_classes": [],
            "_model_module": "@jupyter-widgets/controls",
            "_model_module_version": "1.5.0",
            "_model_name": "FloatProgressModel",
            "_view_count": null,
            "_view_module": "@jupyter-widgets/controls",
            "_view_module_version": "1.5.0",
            "_view_name": "ProgressView",
            "bar_style": "success",
            "description": "",
            "description_tooltip": null,
            "layout": "IPY_MODEL_37aa1beb1d9a4b9ba5e16721168ae4e0",
            "max": 5,
            "min": 0,
            "orientation": "horizontal",
            "style": "IPY_MODEL_37c019f524cf4d0da1b3c7c4546c3f53",
            "value": 5
          }
        },
        "fcb5cd64864a46138de0c528a94e3116": {
          "model_module": "@jupyter-widgets/controls",
          "model_module_version": "1.5.0",
          "model_name": "ProgressStyleModel",
          "state": {
            "_model_module": "@jupyter-widgets/controls",
            "_model_module_version": "1.5.0",
            "_model_name": "ProgressStyleModel",
            "_view_count": null,
            "_view_module": "@jupyter-widgets/base",
            "_view_module_version": "1.2.0",
            "_view_name": "StyleView",
            "bar_color": null,
            "description_width": ""
          }
        },
        "fec6d6b03cf94e359ba6ac252c7188fa": {
          "model_module": "@jupyter-widgets/base",
          "model_module_version": "1.2.0",
          "model_name": "LayoutModel",
          "state": {
            "_model_module": "@jupyter-widgets/base",
            "_model_module_version": "1.2.0",
            "_model_name": "LayoutModel",
            "_view_count": null,
            "_view_module": "@jupyter-widgets/base",
            "_view_module_version": "1.2.0",
            "_view_name": "LayoutView",
            "align_content": null,
            "align_items": null,
            "align_self": null,
            "border": null,
            "bottom": null,
            "display": null,
            "flex": null,
            "flex_flow": null,
            "grid_area": null,
            "grid_auto_columns": null,
            "grid_auto_flow": null,
            "grid_auto_rows": null,
            "grid_column": null,
            "grid_gap": null,
            "grid_row": null,
            "grid_template_areas": null,
            "grid_template_columns": null,
            "grid_template_rows": null,
            "height": null,
            "justify_content": null,
            "justify_items": null,
            "left": null,
            "margin": null,
            "max_height": null,
            "max_width": null,
            "min_height": null,
            "min_width": null,
            "object_fit": null,
            "object_position": null,
            "order": null,
            "overflow": null,
            "overflow_x": null,
            "overflow_y": null,
            "padding": null,
            "right": null,
            "top": null,
            "visibility": null,
            "width": null
          }
        }
      }
    }
  },
  "nbformat": 4,
  "nbformat_minor": 0
}
